{
 "cells": [
  {
   "cell_type": "markdown",
   "metadata": {},
   "source": [
    "### Import cw-simulate module and create new instance"
   ]
  },
  {
   "cell_type": "code",
   "execution_count": null,
   "metadata": {},
   "outputs": [],
   "source": [
    "import { SimulateCosmWasmClient } from \"@oraichain/cw-simulate\";\n",
    "\n",
    "senderAddress = \"orai14vcw5qk0tdvknpa38wz46js5g7vrvut8lk0lk6\";\n",
    "client = new SimulateCosmWasmClient({\n",
    "  chainId: \"Oraichain\",\n",
    "  bech32Prefix: \"orai\"\n",
    "});\n"
   ]
  },
  {
   "cell_type": "markdown",
   "metadata": {},
   "source": [
    "### Setup account balance"
   ]
  },
  {
   "cell_type": "code",
   "execution_count": null,
   "metadata": {},
   "outputs": [],
   "source": [
    "import { coin } from \"@cosmjs/stargate\";\n",
    "\n",
    "client.app.bank.setBalance(senderAddress, [coin('1000000000', 'orai'), coin('1000000000', 'usdt')]);\n",
    "\n",
    "console.log(client.app.bank.getBalance(senderAddress));"
   ]
  },
  {
   "cell_type": "markdown",
   "metadata": {},
   "source": [
    "### Deploy required contracts for simple case"
   ]
  },
  {
   "cell_type": "code",
   "execution_count": null,
   "metadata": {},
   "outputs": [],
   "source": [
    "import { toBinary } from \"@cosmjs/cosmwasm-stargate\";\n",
    "import { DaoDaoCoreClient } from \"@oraichain/dao-contracts-sdk\";\n",
    "\n",
    "const { codeId } = await client.upload(senderAddress, new Uint8Array(await fetch(\"/wasm/dao-dao-core.wasm\").then(res=>res.arrayBuffer())), 'auto');\n",
    "const { codeId: cw20Id } = await client.upload(senderAddress, new Uint8Array(await fetch(\"/wasm/cw20-base.wasm\").then(res=>res.arrayBuffer())), 'auto');\n",
    "const { codeId: voteModId } = await client.upload(senderAddress, new Uint8Array(await fetch(\"/wasm/dao-voting-cw20-staked.wasm\").then(res=>res.arrayBuffer())), 'auto');\n",
    "const { codeId: cw20StakeId } = await client.upload(senderAddress, new Uint8Array(await fetch(\"/wasm/cw20-stake.wasm\").then(res=>res.arrayBuffer())), 'auto');\n",
    "const { codeId: proposalSingleId } = await client.upload(senderAddress, new Uint8Array(await fetch(\"/wasm/dao-proposal-single.wasm\").then(res=>res.arrayBuffer())), 'auto');\n",
    "\n",
    "const { contractAddress } = await client.instantiate(senderAddress, codeId, {\n",
    "    name: 'DAO DAO',\n",
    "    description: 'A DAO that builds DAOs.',\n",
    "    automatically_add_cw20s: true,\n",
    "    automatically_add_cw721s: true,\n",
    "    voting_module_instantiate_info: {\n",
    "        code_id: voteModId,\n",
    "        msg: toBinary({\n",
    "            token_info: {\n",
    "                new: {\n",
    "                    code_id: cw20Id,\n",
    "                    label: 'DAO DAO governance token',\n",
    "                    name: 'DAO',\n",
    "                    symbol: 'DAO',\n",
    "                    decimals: 6,\n",
    "                    initial_balances: [{ amount: '100000000', address: senderAddress }],\n",
    "                    staking_code_id: cw20StakeId\n",
    "                }\n",
    "            },\n",
    "            active_threshold: {\n",
    "                absolute_count: {\n",
    "                    count: '100'\n",
    "                }\n",
    "            }\n",
    "        }),\n",
    "        admin: { core_module: {} },\n",
    "        label: 'voting module'\n",
    "    },\n",
    "    proposal_modules_instantiate_info: [{\n",
    "        code_id: proposalSingleId,\n",
    "        msg: toBinary({\n",
    "            threshold: {\n",
    "                threshold_quorum: {\n",
    "                    quorum: { percent: '0.015' },\n",
    "                    threshold: { majority: {} }\n",
    "                }\n",
    "            },\n",
    "            max_voting_period: { time: 604800 }, // One week.\n",
    "            only_members_execute: true,\n",
    "            allow_revoting: false,\n",
    "            pre_propose_info: {\n",
    "                anyone_may_propose: {}\n",
    "            },\n",
    "            close_proposal_on_execution_failure: true\n",
    "        }),\n",
    "        admin: { core_module: {} },\n",
    "        label: 'governance module'\n",
    "    }]\n",
    "}, \"dao-dao-core\", \"auto\");\n",
    "  \n",
    "daoContract = new DaoDaoCoreClient(client, senderAddress, contractAddress);"
   ]
  },
  {
   "cell_type": "markdown",
   "metadata": {},
   "source": [
    "### Create proposal"
   ]
  },
  {
   "cell_type": "code",
   "execution_count": null,
   "metadata": {},
   "outputs": [],
   "source": [
    "import { Ok } from \"ts-results\";\n",
    "import { toBinary } from \"@cosmjs/cosmwasm-stargate\";\n",
    "import { DaoVotingCw20StakedClient, DaoProposalSingleClient, Cw20StakeClient } from \"@oraichain/dao-contracts-sdk\";\n",
    "\n",
    "const votingModuleContract = new DaoVotingCw20StakedClient(client, senderAddress, await daoContract.votingModule());\n",
    "const govTokenAddress = await votingModuleContract.tokenContract();\n",
    "const proposalModules = await daoContract.proposalModules({});    \n",
    "const stakingContract = new Cw20StakeClient(client, senderAddress, await votingModuleContract.stakingContract());\n",
    "const proposalModulesAddr = proposalModules.find((m) => m.status === 'enabled').address;\n",
    "\n",
    "proposalModuleContract = new DaoProposalSingleClient(client, senderAddress, proposalModulesAddr);\n",
    "\n",
    "// deposit token\n",
    "await client.execute(\n",
    "    senderAddress,\n",
    "    govTokenAddress,\n",
    "    {\n",
    "        send: {\n",
    "            contract: stakingContract.contractAddress,\n",
    "            amount: '100',\n",
    "            msg: toBinary({\n",
    "                stake: {}\n",
    "            })\n",
    "        }\n",
    "    },\n",
    "    'auto'\n",
    ");\n",
    "\n",
    "\n",
    "client.app.store.tx((setter) => {\n",
    "    setter('height')(client.app.height + 1);\n",
    "    setter('time')(client.app.time + 5 * 1e9);\n",
    "    return Ok(true);\n",
    "});\n",
    "\n",
    "\n",
    "// make_proposal\n",
    "await proposalModuleContract.propose({\n",
    "    title: \"title\",\n",
    "    description: \"description\",\n",
    "    msgs: []\n",
    "});"
   ]
  },
  {
   "cell_type": "markdown",
   "metadata": {},
   "source": [
    "### Unstake some tokens to make it inactive"
   ]
  },
  {
   "cell_type": "code",
   "execution_count": null,
   "metadata": {},
   "outputs": [],
   "source": [
    "await stakingContract.unstake({\n",
    "    amount: '50'\n",
    "});\n",
    "\n",
    "try {\n",
    "    await proposalModuleContract.propose({\n",
    "        title: 'title',\n",
    "        description: 'description',\n",
    "        msgs: []\n",
    "    });    \n",
    "} catch (ex) {\n",
    "    // expect: the DAO is currently inactive, you cannot create proposals\n",
    "    console.log(ex.message);\n",
    "}"
   ]
  },
  {
   "cell_type": "markdown",
   "metadata": {},
   "source": [
    "### Vote the proposal"
   ]
  },
  {
   "cell_type": "code",
   "execution_count": null,
   "metadata": {},
   "outputs": [],
   "source": [
    "await proposalModuleContract.vote({\n",
    "    proposalId: 1,\n",
    "    vote: 'yes'\n",
    "});\n",
    "\n",
    "const { proposal } = await proposalModuleContract.proposal({ proposalId: 1 });\n",
    "\n",
    "// proposal is passed\n",
    "console.log(proposal);"
   ]
  }
 ],
 "metadata": {
  "kernelspec": {
   "display_name": "JavaScript",
   "language": "javascript",
   "name": "jslab"
  },
  "language_info": {
   "name": "javascript"
  },
  "orig_nbformat": 4
 },
 "nbformat": 4,
 "nbformat_minor": 2
}
