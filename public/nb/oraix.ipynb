{
 "cells": [
  {
   "cell_type": "markdown",
   "metadata": {},
   "source": [
    "## Load OraiX Token"
   ]
  },
  {
   "cell_type": "code",
   "execution_count": null,
   "metadata": {
    "vscode": {
     "languageId": "javascript"
    }
   },
   "outputs": [],
   "source": [
    "import { SimulateCosmWasmClient, BufferCollection, SortedMap, compare } from '@oraichain/cw-simulate';\n",
    "\n",
    "ORAIX_CONTRACT = 'orai1lus0f0rhx8s03gdllx2n6vhkmf0536dv57wfge';\n",
    "senderAddress = 'orai14vcw5qk0tdvknpa38wz46js5g7vrvut8lk0lk6';\n",
    "client = new SimulateCosmWasmClient({ chainId: 'Oraichain', bech32Prefix: 'orai' });\n",
    "\n",
    "const wasmCode = new Uint8Array(await fetch(`/wasm/${ORAIX_CONTRACT}`).then((res) => res.arrayBuffer()));\n",
    "const { codeId } = await client.upload(senderAddress, wasmCode, \"auto\");\n",
    "\n",
    "const buffer = new Uint8Array(await fetch(`/wasm/${ORAIX_CONTRACT}.state`).then((res) => res.arrayBuffer()));\n",
    "const state = SortedMap.rawPack(new BufferCollection(buffer), compare);\n",
    "\n",
    "await client.loadContract( ORAIX_CONTRACT, {\n",
    "    codeId,\n",
    "    admin: senderAddress,\n",
    "    label: \"ORAIX Token\",\n",
    "    creator: senderAddress,\n",
    "    created: 1\n",
    "  },\n",
    "  state\n",
    ");"
   ]
  },
  {
   "cell_type": "markdown",
   "metadata": {},
   "source": [
    "## Load top holders"
   ]
  },
  {
   "cell_type": "code",
   "execution_count": null,
   "metadata": {
    "vscode": {
     "languageId": "javascript"
    }
   },
   "outputs": [],
   "source": [
    "const {holders} = await client.queryContractSmart(ORAIX_CONTRACT, { \n",
    "    top_holders: { \n",
    "        limit: 30 \n",
    "    } \n",
    "});\n",
    "\n",
    "console.log(holders.map(v=>v.join(':')))"
   ]
  }
 ],
 "metadata": {
  "language_info": {
   "name": "python"
  }
 },
 "nbformat": 4,
 "nbformat_minor": 2
}
