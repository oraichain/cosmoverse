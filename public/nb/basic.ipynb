{
  "cells": [
    {
      "cell_type": "markdown",
      "id": "7ee734ae-dfce-435a-9ff9-0991dc383270",
      "metadata": {},
      "source": [
        "### Import cw-simulate module and create new instance"
      ]
    },
    {
      "cell_type": "code",
      "execution_count": null,
      "id": "00119fef-6ecc-4cab-889e-aa58adb81cfb",
      "metadata": {},
      "outputs": [],
      "source": [
        "import { SimulateCosmWasmClient } from \"@oraichain/cw-simulate\";\n",
        "\n",
        "senderAddress = \"orai14vcw5qk0tdvknpa38wz46js5g7vrvut8lk0lk6\";\n",
        "client = new SimulateCosmWasmClient({\n",
        "  chainId: \"Oraichain\",\n",
        "  bech32Prefix: \"orai\",\n",
        "  metering: true\n",
        "});\n"
      ]
    },
    {
      "cell_type": "markdown",
      "id": "2bde6d50-2adb-4d18-bd52-d78fb5ff716f",
      "metadata": {},
      "source": [
        "### Setup account balance"
      ]
    },
    {
      "cell_type": "code",
      "execution_count": null,
      "id": "0e767df4-c883-4ccb-a08e-cf5ca057ab29",
      "metadata": {},
      "outputs": [],
      "source": [
        "import { coins } from '@cosmjs/stargate';\n",
        "\n",
        "client.app.bank.setBalance(senderAddress, coins('10000000', 'orai'));\n",
        "\n",
        "console.log(await client.getBalance(senderAddress, 'orai'));"
      ]
    },
    {
      "cell_type": "markdown",
      "id": "a8b7a0c2-89c6-4e5e-bbba-b38d00a8ae63",
      "metadata": {},
      "source": [
        "### Deploy contract on SimulateCosmwasmClient"
      ]
    },
    {
      "cell_type": "code",
      "execution_count": null,
      "id": "f0d82dac-02b5-4292-bc26-079461701c41",
      "metadata": {},
      "outputs": [],
      "source": [
        "import { Cw20BaseClient } from \"@oraichain/common-contracts-sdk\";\n",
        "\n",
        "const wasmCode = new Uint8Array(await fetch(\"/wasm/cw20-base.wasm\").then((res) => res.arrayBuffer()));\n",
        "const { codeId } = await client.upload(senderAddress, wasmCode, \"auto\");\n",
        "const { contractAddress } = await client.instantiate(\n",
        "  senderAddress,\n",
        "  codeId,\n",
        "  {\n",
        "    decimals: 6,\n",
        "    symbol: \"CVT\",\n",
        "    name: \"cosmoverse token\",\n",
        "    mint: { minter: senderAddress },\n",
        "    initial_balances: [{ address: senderAddress, amount: \"1000000000\" }]\n",
        "  },\n",
        "  \"cw20 token\",\n",
        "  \"auto\"\n",
        ");\n",
        "\n",
        "cw20Contract = new Cw20BaseClient(client, senderAddress, contractAddress);\n",
        "\n",
        "console.log(await cw20Contract.tokenInfo());"
      ]
    },
    {
      "cell_type": "markdown",
      "id": "f87c1526-155b-4b0e-83fd-969ad6d9328b",
      "metadata": {},
      "source": [
        "### Console.log in smart contract\n",
        "\n",
        "1. run `code ../cw-plus/contracts/cw20-base` to add log function\n",
        "1. run `cwtools build ../cw-plus/contracts/cw20-base -d -w -o public/wasm/` to override wasm contract file\n",
        "1. re-run notebook above to see the log\n"
      ]
    },
    {
      "cell_type": "markdown",
      "id": "66f53721-f427-4a51-8154-0ca91efc5be7",
      "metadata": {},
      "source": [
        "### Execute contract with gas metering"
      ]
    },
    {
      "cell_type": "code",
      "execution_count": null,
      "id": "32a6bf55-e7b8-4535-9a84-fa19baf968b9",
      "metadata": {},
      "outputs": [],
      "source": [
        "const { gasUsed } = await cw20Contract.transfer({amount: '1000000', recipient: 'orai1ur2vsjrjarygawpdwtqteaazfchvw4fg6uql76'});\n",
        "console.log(`Transfer token required gas: ${gasUsed}`);\n",
        "\n",
        "console.log(await cw20Contract.balance({address:'orai1ur2vsjrjarygawpdwtqteaazfchvw4fg6uql76'}));"
      ]
    },
    {
      "cell_type": "markdown",
      "id": "29d5a232",
      "metadata": {},
      "source": [
        "### Load smart contract with state from running blockchain"
      ]
    },
    {
      "cell_type": "code",
      "execution_count": null,
      "id": "959276e7",
      "metadata": {},
      "outputs": [],
      "source": [
        "import { BufferCollection, SortedMap, compare } from \"@oraichain/cw-simulate\";\n",
        "import { Cw20BaseClient } from \"@oraichain/common-contracts-sdk\";\n",
        "\n",
        "const wasmCode = new Uint8Array(await fetch(\"/wasm/kwt-token.wasm\").then((res) => res.arrayBuffer()));\n",
        "const { codeId } = await client.upload(senderAddress, wasmCode, \"auto\");\n",
        "\n",
        "const buffer = new Uint8Array(await fetch(\"/wasm/kwt-token.state\").then((res) => res.arrayBuffer()));\n",
        "const state = SortedMap.rawPack(new BufferCollection(buffer), compare);\n",
        "\n",
        "const kwtContract = new Cw20BaseClient(client, senderAddress, \"orai1nd4r053e3kgedgld2ymen8l9yrw8xpjyaal7j5\");\n",
        "await client.loadContract(\n",
        "  \"orai1nd4r053e3kgedgld2ymen8l9yrw8xpjyaal7j5\",\n",
        "  {\n",
        "    codeId,\n",
        "    admin: senderAddress,\n",
        "    label: \"kwt token\",\n",
        "    creator: senderAddress,\n",
        "    created: 1\n",
        "  },\n",
        "  state\n",
        ");\n",
        "\n",
        "console.log(await kwtContract.allAccounts({ limit: 5 }));\n"
      ]
    },
    {
      "cell_type": "markdown",
      "id": "416fa37d",
      "metadata": {},
      "source": [
        "### Cosmwasm with Zero Knowledge extension\n",
        "\n",
        "#### ZK Smart contract code\n",
        "\n",
        "```rust\n",
        "#[cfg(not(feature = \"library\"))]\n",
        "use cosmwasm_std::entry_point;\n",
        "use cosmwasm_std::{to_binary, Binary, Deps, DepsMut, Env, MessageInfo, Response, StdResult};\n",
        "use crate::msg::{ExecuteMsg, InstantiateMsg, QueryMsg};\n",
        "use crate::state::CURVE;\n",
        "\n",
        "\n",
        "#[cfg_attr(not(feature = \"library\"), entry_point)]\n",
        "pub fn instantiate(\n",
        "    deps: DepsMut,\n",
        "    _env: Env,\n",
        "    info: MessageInfo,\n",
        "    msg: InstantiateMsg,\n",
        ") -> Result<Response, ContractError> {    \n",
        "    CURVE.save(deps.storage, &msg.curve)?;\n",
        "    Ok(Response::default())\n",
        "}\n",
        "\n",
        "#[cfg_attr(not(feature = \"library\"), entry_point)]\n",
        "pub fn execute(\n",
        "    deps: DepsMut,\n",
        "    _env: Env,\n",
        "    info: MessageInfo,\n",
        "    msg: ExecuteMsg,\n",
        ") -> Result<Response, ContractError> {\n",
        "    match msg {\n",
        "        ExecuteMsg::SetVKRaw {\n",
        "            vk_raw\n",
        "        } => {            \n",
        "            VK.save(deps.storage, &vk_raw)?;\n",
        "        }        \n",
        "    }\n",
        "}\n",
        "\n",
        "\n",
        "#[cfg_attr(not(feature = \"library\"), entry_point)]\n",
        "pub fn query(deps: Deps, _env: Env, msg: QueryMsg) -> StdResult<Binary> {\n",
        "    match msg {\n",
        "        QueryMsg::VerifyProofJson {\n",
        "            proof_raw,\n",
        "            public_inputs,            \n",
        "        } => to_binary(&query::verify_proof(\n",
        "            deps,            \n",
        "            &proof_raw,\n",
        "            &public_inputs,\n",
        "        )?),\n",
        "    }\n",
        "}\n",
        "\n",
        "pub fn verify_proof(\n",
        "    deps: Deps,    \n",
        "    proof_raw: &[u8],\n",
        "    public_inputs: &[u8],\n",
        ") -> StdResult<bool> {\n",
        "    let vk = VK.load(deps.storage)?;    \n",
        "    let curve = CURVE.load(deps.storage)?;\n",
        "    let verified = deps\n",
        "            .api\n",
        "            .groth16_verify(&public_inputs, proof_raw, &vk, curve)\n",
        "    Ok(verified)\n",
        "}\n",
        "\n",
        "```"
      ]
    },
    {
      "cell_type": "markdown",
      "id": "a10b0333",
      "metadata": {},
      "source": [
        "### Change Backend Api with ZK extensions"
      ]
    },
    {
      "cell_type": "code",
      "execution_count": null,
      "id": "6603bdb5",
      "metadata": {},
      "outputs": [],
      "source": [
        "import { BasicBackendApi } from \"@oraichain/cw-simulate\";\n",
        "import { groth16_verify } from \"@oraichain/cosmwasm-vm-zk-web\";\n",
        "\n",
        "// load wasm libraries\n",
        "await require(\"@oraichain/cosmwasm-vm-zk-web\").default();\n",
        "\n",
        "// extends vm host functions\n",
        "class ZkBackendApi extends BasicBackendApi {  \n",
        "  groth16_verify(input, proof, vk, curve) {\n",
        "    return groth16_verify(input, proof, vk, curve);\n",
        "  }\n",
        "}\n",
        "\n",
        "client.app.backendApi = new ZkBackendApi('orai');"
      ]
    },
    {
      "cell_type": "markdown",
      "id": "87400ce5",
      "metadata": {},
      "source": [
        "### Deploy ZK contract on extended SimulateCosmwasmClient"
      ]
    },
    {
      "cell_type": "code",
      "execution_count": null,
      "id": "b292727c",
      "metadata": {},
      "outputs": [],
      "source": [
        "const wasmCode = new Uint8Array(await fetch(\"/wasm/zk.wasm\").then((res) => res.arrayBuffer()));\n",
        "const { codeId } = await client.upload(senderAddress, wasmCode, \"auto\");\n",
        "contractAddress = (\n",
        "  await client.instantiate(\n",
        "    senderAddress,\n",
        "    codeId,\n",
        "    {\n",
        "      curve: \"bn254\"\n",
        "    },\n",
        "    \"groth16 verifier\",\n",
        "    \"auto\"\n",
        "  )\n",
        ").contractAddress;"
      ]
    },
    {
      "cell_type": "markdown",
      "id": "2841d647",
      "metadata": {},
      "source": [
        "### Execute contract with gas metering"
      ]
    },
    {
      "cell_type": "code",
      "execution_count": null,
      "id": "d7583110",
      "metadata": {},
      "outputs": [],
      "source": [
        "PUBLIC_INPUTS =\n",
        "  't6CNWWLx3Fd4+fI4XCkc5vdvmwdeAo5lAPMnIDvrxh9SGQJVQa0SBUqvbA7oxa4J8jtpMGipzID9lg9mbNZRIeD7lRlesjw8ZdffRKet+Dhx7AOAGJ0+dXQXdl1Rrg0q';\n",
        "PROOF =\n",
        "  'Ig2y4hzjpMsVvHC96ppAv68XvyNrigWimFBtG3/ixK62J5Wk3EEMx2j7zwlWFV5KcftnhcaRTTtuqd5fp7SZJZH/uvmMWEdM0GKrmoE/oFoXrvh0eaTlxNjoteRLDQGGkkHa7zjdUgdKBndWTokOBXYaw2xsn/I9g1a5rW2a6y8=';\n",
        "VK =\n",
        "  'qNKepAYpvnYvKhK9p8xFuZijTEOpbExnRMjHqQDo+Ape7Ob6V3FInLAwb0ma2Roz0BWfKXhjMteC24cKCYBECqEiWtI8DkdsfTa3luaptQJAhBtL6VXRPqVN2NoBEo4M+SCUtFn/iCeAq98+F4TAbfbIXAAG/X8ll+PpBS2SFSdPCPxPlNyBKfKaV43Bf16mDqhdLIingpS3ktvy+o0wlzuAymtWdGO2kLizqPcOtkaCJzWOXzFuuBUKkhUrdTUZxMqCf+wX9yg9FSKHZ7Vrc27JSY85/ltRGor1A7Y6GZcEAAAAAAAAALnIa74+XvNJDV20eL4KeTOTTktaFI4sAWArR1yD4lAIkdxEpv4vMx2ptm81YjmKdiZ397fJXTqCqWmODPYhISjW6yej8Rq7UqmKUJvxUC8JR+mrnB1yoIYUDA0xaGbWJMIqafjftZV+NdjT01CzyD7pXoiXx7dtQYgWg9JWHNkZ';\n",
        "  \n",
        "const res = await client.execute(senderAddress, contractAddress, {\n",
        "    set_vk_raw: {\n",
        "      vk_raw: VK,\n",
        "    },\n",
        "});\n",
        "\n",
        "console.log(res);"
      ]
    },
    {
      "cell_type": "markdown",
      "id": "dee43062",
      "metadata": {},
      "source": [
        "### Verify ZK Proof"
      ]
    },
    {
      "cell_type": "code",
      "execution_count": null,
      "id": "0670776d",
      "metadata": {},
      "outputs": [],
      "source": [
        "const res = await client.queryContractSmart(contractAddress, {\n",
        "    verify_proof_json: {\n",
        "      proof_raw: PROOF,\n",
        "      public_inputs: PUBLIC_INPUTS,\n",
        "    },\n",
        "});\n",
        "  \n",
        "console.log(res);"
      ]
    }
  ],
  "metadata": {
    "kernelspec": {
      "display_name": "JavaScript",
      "language": "javascript",
      "name": "jslab"
    },
    "language_info": {
      "file_extension": ".js",
      "mimetype": "text/javascript",
      "name": "javascript",
      "version": ""
    }
  },
  "nbformat": 4,
  "nbformat_minor": 5
}
