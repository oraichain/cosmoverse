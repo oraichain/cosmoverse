{
 "cells": [
  {
   "cell_type": "markdown",
   "metadata": {},
   "source": [
    "### Import cw-simulate module and create new instance"
   ]
  },
  {
   "cell_type": "code",
   "execution_count": null,
   "metadata": {},
   "outputs": [],
   "source": [
    "import { SimulateCosmWasmClient } from \"@oraichain/cw-simulate\";\n",
    "\n",
    "senderAddress = \"orai14vcw5qk0tdvknpa38wz46js5g7vrvut8lk0lk6\";\n",
    "client = new SimulateCosmWasmClient({\n",
    "  chainId: \"Oraichain\",\n",
    "  bech32Prefix: \"orai\"\n",
    "});\n"
   ]
  },
  {
   "cell_type": "markdown",
   "metadata": {},
   "source": [
    "### Setup account balance"
   ]
  },
  {
   "cell_type": "code",
   "execution_count": null,
   "metadata": {},
   "outputs": [],
   "source": [
    "import { coin } from \"@cosmjs/stargate\";\n",
    "\n",
    "client.app.bank.setBalance(senderAddress, [coin('1000000000', 'orai'), coin('1000000000', 'usdt')]);\n",
    "\n",
    "console.log(client.app.bank.getBalance(senderAddress));"
   ]
  },
  {
   "cell_type": "markdown",
   "metadata": {},
   "source": [
    "### Deploy USDT token contract"
   ]
  },
  {
   "cell_type": "code",
   "execution_count": null,
   "metadata": {},
   "outputs": [],
   "source": [
    "import { Cw20BaseClient } from \"@oraichain/common-contracts-sdk\";\n",
    "\n",
    "const wasmCode = new Uint8Array(await fetch(\"/wasm/cw20-base.wasm\").then(res=>res.arrayBuffer()));\n",
    "const { codeId } = await client.upload(senderAddress, wasmCode, \"auto\");\n",
    "const { contractAddress } = await client.instantiate(senderAddress, codeId, {\n",
    "    decimals: 6,\n",
    "    symbol: \"USDT\",\n",
    "    name: \"USDT token\",\n",
    "    mint: { minter: senderAddress },\n",
    "    initial_balances: [{ address: senderAddress, amount: \"1000000000\" }] \n",
    "}, \"cw20 token\", \"auto\");\n",
    "usdtContract = new Cw20BaseClient(client, senderAddress, contractAddress);\n",
    "\n",
    "console.log(await usdtContract.tokenInfo());"
   ]
  },
  {
   "cell_type": "markdown",
   "metadata": {},
   "source": [
    "### Deploy Orderbook contract"
   ]
  },
  {
   "cell_type": "code",
   "execution_count": null,
   "metadata": {},
   "outputs": [],
   "source": [
    "import { OraiswapLimitOrderClient } from \"@oraichain/oraidex-contracts-sdk\";\n",
    "\n",
    "const wasmCode = new Uint8Array(await fetch(\"/wasm/orderbook.wasm\").then(res=>res.arrayBuffer()));\n",
    "const { codeId } = await client.upload(senderAddress, wasmCode, \"auto\");\n",
    "const { contractAddress } = await client.instantiate(senderAddress, codeId, {\n",
    "    admin: senderAddress,\n",
    "    version: '0.0.1',\n",
    "    name: 'Orderbook'\n",
    "}, \"limit order\", \"auto\");\n",
    "orderbookContract = new OraiswapLimitOrderClient(client, senderAddress, contractAddress);\n",
    "\n",
    "console.log(await orderbookContract.contractInfo());"
   ]
  },
  {
   "cell_type": "markdown",
   "metadata": {},
   "source": [
    "### Create native orderbook pair"
   ]
  },
  {
   "cell_type": "code",
   "execution_count": null,
   "metadata": {},
   "outputs": [],
   "source": [
    "import { coins } from \"@cosmjs/stargate\";\n",
    "\n",
    "const result = await orderbookContract.createOrderBookPair({\n",
    "    baseCoinInfo: { native_token: { denom: \"orai\" } },\n",
    "    quoteCoinInfo: { native_token: { denom: \"usdt\" } },\n",
    "    spread: '0.5',\n",
    "    minQuoteCoinAmount: '10'\n",
    "}, 'auto', '', coins('20', 'orai'));\n",
    "\n",
    "console.log(result);\n",
    "\n",
    "const queryPair = await orderbookContract.orderBook({\n",
    "    assetInfos: [\n",
    "        { native_token: { denom: \"orai\" } }, \n",
    "        { native_token: { denom: \"usdt\" } }\n",
    "    ]\n",
    "});\n",
    "\n",
    "console.log(\"orai-usdt pair:\", queryPair);"
   ]
  },
  {
   "cell_type": "markdown",
   "metadata": {},
   "source": [
    "### Create cw20 orderbook pair"
   ]
  },
  {
   "cell_type": "code",
   "execution_count": null,
   "metadata": {},
   "outputs": [],
   "source": [
    "import { coins } from \"@cosmjs/stargate\";\n",
    "\n",
    "await orderbookContract.createOrderBookPair({\n",
    "      baseCoinInfo: { native_token: { denom: \"orai\" } },\n",
    "      quoteCoinInfo: { token: { contract_addr: usdtContract.contractAddress } },\n",
    "      spread: '0.1',\n",
    "      minQuoteCoinAmount: '1'\n",
    "}, 'auto', '', coins('20', 'orai'));\n",
    "\n",
    "const queryPair = await orderbookContract.orderBook({\n",
    "    assetInfos: [\n",
    "        { native_token: { denom: \"orai\" } }, \n",
    "        { token: { contract_addr: usdtContract.contractAddress } }\n",
    "    ]\n",
    "});\n",
    "\n",
    "console.log(\"orai-cw20-usdt pair:\", queryPair);"
   ]
  },
  {
   "cell_type": "markdown",
   "metadata": {},
   "source": [
    "### Submit native token order"
   ]
  },
  {
   "cell_type": "code",
   "execution_count": null,
   "metadata": {},
   "outputs": [],
   "source": [
    "import { coin } from \"@cosmjs/stargate\";\n",
    "\n",
    "const orders = [\n",
    "    [coin('567', 'orai'), coin('123', 'usdt'), 'buy'],\n",
    "    [coin('654', 'orai'), coin('111', 'usdt'), 'buy'],\n",
    "    [coin('553', 'orai'), coin('100', 'usdt'), 'sell'],\n",
    "    [coin('632', 'orai'), coin('100', 'usdt'), 'sell']\n",
    "];\n",
    "\n",
    "for (const [base, quote, direction] of orders) {\n",
    "    await orderbookContract.submitOrder(\n",
    "      {\n",
    "        assets: [\n",
    "            { info: { native_token: { denom: base.denom } }, amount: base.amount }, \n",
    "            { info: { native_token: { denom: quote.denom } }, amount: quote.amount }\n",
    "        ],\n",
    "        direction\n",
    "      },\n",
    "      'auto',\n",
    "      '',\n",
    "      [direction === 'sell' ? base : quote]     \n",
    "    );\n",
    "}\n",
    "\n",
    "// query an order\n",
    "const queryOrder = await orderbookContract.order({\n",
    "  assetInfos: [\n",
    "    { native_token: { denom: \"orai\" } }, \n",
    "    { native_token: { denom: \"usdt\" } }, \n",
    "  ],\n",
    "  orderId: 1\n",
    "});\n",
    "\n",
    "console.log(queryOrder);"
   ]
  },
  {
   "cell_type": "markdown",
   "metadata": {},
   "source": [
    "### Submit cw20 token order"
   ]
  },
  {
   "cell_type": "code",
   "execution_count": null,
   "metadata": {},
   "outputs": [],
   "source": [
    "import { toBinary } from \"@cosmjs/cosmwasm-stargate\";\n",
    "\n",
    "await usdtContract.send({\n",
    "    amount: '7000000',\n",
    "    contract: orderbookContract.contractAddress,\n",
    "    msg: toBinary({\n",
    "      submit_order: {\n",
    "        direction: 'buy',\n",
    "        assets: [\n",
    "            { info: { native_token: { denom: \"orai\" } }, amount: \"2000000\" },  \n",
    "            { info: { token: { contract_addr: usdtContract.contractAddress } }, amount: \"7000000\" }\n",
    "        ]\n",
    "      }\n",
    "    })\n",
    "});\n",
    "\n",
    "const balanceRes = await usdtContract.balance({ address: senderAddress });\n",
    "// expect balance to be 993000000\n",
    "\n",
    "console.log(balanceRes);"
   ]
  },
  {
   "cell_type": "markdown",
   "metadata": {},
   "source": [
    "### Cancel native order"
   ]
  },
  {
   "cell_type": "code",
   "execution_count": null,
   "metadata": {},
   "outputs": [],
   "source": [
    "await orderbookContract.cancelOrder({\n",
    "    assetInfos: [\n",
    "        { native_token: { denom: \"orai\" } }, \n",
    "        { native_token: { denom: \"usdt\" } }, \n",
    "    ],\n",
    "    orderId: 1\n",
    "});\n",
    "\n",
    "try {\n",
    "    await orderbookContract.order({\n",
    "      assetInfos: [\n",
    "        { native_token: { denom: \"orai\" } }, \n",
    "        { native_token: { denom: \"usdt\" } }, \n",
    "      ],\n",
    "      orderId: 1\n",
    "    });\n",
    "} catch (ex) {\n",
    "    // expect oraiswap_limit_order::orderbook::Order not found\n",
    "    console.log(ex.message);\n",
    "}"
   ]
  },
  {
   "cell_type": "markdown",
   "metadata": {},
   "source": [
    "### Cancel cw20 order"
   ]
  },
  {
   "cell_type": "code",
   "execution_count": null,
   "metadata": {},
   "outputs": [],
   "source": [
    "await orderbookContract.cancelOrder({\n",
    "    assetInfos: [\n",
    "      { native_token: { denom: 'orai' } },\n",
    "      { token: { contract_addr: usdtContract.contractAddress } }\n",
    "    ],\n",
    "    orderId: 5\n",
    "});\n",
    "\n",
    "const balanceRes = await usdtContract.balance({ address: senderAddress });\n",
    "\n",
    "// expect balance to be 1000000000\n",
    "console.log(balanceRes);"
   ]
  },
  {
   "cell_type": "markdown",
   "metadata": {},
   "source": [
    "### Matching orders"
   ]
  },
  {
   "cell_type": "code",
   "execution_count": null,
   "metadata": {},
   "outputs": [],
   "source": [
    "let queryAll = await orderbookContract.orders({\n",
    "    assetInfos: [\n",
    "        { native_token: { denom: \"orai\" } }, \n",
    "        { native_token: { denom: \"usdt\" } }, \n",
    "    ],\n",
    "    filter: {\n",
    "      bidder: senderAddress\n",
    "    }\n",
    "});\n",
    "// have 3 orders\n",
    "console.log('pending orders before matching', queryAll.orders.map(order=>order.order_id));\n",
    "\n",
    "await orderbookContract.executeOrderBookPair({\n",
    "    assetInfos: [\n",
    "        { native_token: { denom: \"orai\" } }, \n",
    "        { native_token: { denom: \"usdt\" } }, \n",
    "    ]\n",
    "})\n",
    "\n",
    "queryAll = await orderbookContract.orders({\n",
    "    assetInfos: [\n",
    "        { native_token: { denom: \"orai\" } }, \n",
    "        { native_token: { denom: \"usdt\" } }, \n",
    "    ],\n",
    "    filter: {\n",
    "      bidder: senderAddress\n",
    "    }\n",
    "});\n",
    "\n",
    "// now have 2 orders\n",
    "console.log('pending orders after matching', queryAll.orders.map(order=>order.order_id));"
   ]
  }
 ],
 "metadata": {
  "kernelspec": {
   "display_name": "JavaScript",
   "language": "javascript",
   "name": "jslab"
  },
  "language_info": {
   "file_extension": ".js",
   "mimetype": "text/javascript",
   "name": "javascript",
   "version": ""
  },
  "orig_nbformat": 4
 },
 "nbformat": 4,
 "nbformat_minor": 2
}
