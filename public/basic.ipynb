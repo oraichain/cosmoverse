{
  "cells": [
    {
      "cell_type": "markdown",
      "id": "7ee734ae-dfce-435a-9ff9-0991dc383270",
      "metadata": {},
      "source": [
        "### Import cw-simulate module and create new instance"
      ]
    },
    {
      "cell_type": "code",
      "execution_count": null,
      "id": "00119fef-6ecc-4cab-889e-aa58adb81cfb",
      "metadata": {},
      "outputs": [],
      "source": [
        "import { SimulateCosmWasmClient } from \"@oraichain/cw-simulate\";\n",
        "\n",
        "senderAddress = \"orai14vcw5qk0tdvknpa38wz46js5g7vrvut8lk0lk6\";\n",
        "client = new SimulateCosmWasmClient({\n",
        "  chainId: \"Oraichain\",\n",
        "  bech32Prefix: \"orai\",\n",
        "  metering: true\n",
        "});\n"
      ]
    },
    {
      "cell_type": "markdown",
      "id": "2bde6d50-2adb-4d18-bd52-d78fb5ff716f",
      "metadata": {},
      "source": [
        "### Setup account balance then transfer"
      ]
    },
    {
      "cell_type": "code",
      "execution_count": null,
      "id": "0e767df4-c883-4ccb-a08e-cf5ca057ab29",
      "metadata": {},
      "outputs": [],
      "source": [
        "import { coins } from '@cosmjs/stargate';\n",
        "\n",
        "client.app.bank.setBalance(senderAddress, coins('10000000', 'orai'));\n",
        "\n",
        "console.log(await client.getBalance(senderAddress, 'orai'))"
      ]
    },
    {
      "cell_type": "markdown",
      "id": "a8b7a0c2-89c6-4e5e-bbba-b38d00a8ae63",
      "metadata": {},
      "source": [
        "### Deploy contract on SimulateCosmwasmClient"
      ]
    },
    {
      "cell_type": "code",
      "execution_count": null,
      "id": "f0d82dac-02b5-4292-bc26-079461701c41",
      "metadata": {},
      "outputs": [],
      "source": [
        "import { Cw20BaseClient } from \"@oraichain/common-contracts-sdk\";\n",
        "\n",
        "const wasmCode = new Uint8Array(await fetch(\"/cw20-base.wasm\").then(res=>res.arrayBuffer()));\n",
        "const { codeId } = await client.upload(senderAddress, wasmCode, \"auto\");\n",
        "const result = await client.instantiate(senderAddress, codeId, {\n",
        "    decimals: 6,\n",
        "    symbol: \"CVT\",\n",
        "    name: \"cosmoverse token\",\n",
        "    mint: { minter: senderAddress },\n",
        "    initial_balances: [{ address: senderAddress, amount: \"1000000000\" }] \n",
        "}, \"cw20 token\", \"auto\");\n",
        "contractAddress = result.contractAddress;\n",
        "cw20Contract = new Cw20BaseClient(client, senderAddress, contractAddress);\n",
        "\n",
        "console.log(await cw20Contract.tokenInfo());"
      ]
    },
    {
      "cell_type": "markdown",
      "id": "f87c1526-155b-4b0e-83fd-969ad6d9328b",
      "metadata": {},
      "source": [
        "### Console.log in smart contract\n",
        "\n",
        "1. run `code ../cw-plus/contracts/cw20-base` to add log function\n",
        "1. run `cwtools build ../cw-plus/contracts/cw20-base -d -w -o node_modules/@oraichain/common-contracts-build/data/` to override wasm contract file\n",
        "1. re-run notebook above to see the log\n"
      ]
    },
    {
      "cell_type": "markdown",
      "id": "66f53721-f427-4a51-8154-0ca91efc5be7",
      "metadata": {},
      "source": [
        "### Execute contract with gas metering"
      ]
    },
    {
      "cell_type": "code",
      "execution_count": null,
      "id": "32a6bf55-e7b8-4535-9a84-fa19baf968b9",
      "metadata": {},
      "outputs": [],
      "source": [
        "const { gasUsed } = await cw20Contract.transfer({amount: '1000000', recipient: 'orai1ur2vsjrjarygawpdwtqteaazfchvw4fg6uql76'});\n",
        "console.log(`Transfer token required gas: ${gasUsed}`);\n",
        "\n",
        "console.log(await cw20Contract.balance({address:'orai1ur2vsjrjarygawpdwtqteaazfchvw4fg6uql76'}))"
      ]
    },
    {
      "cell_type": "markdown",
      "id": "29d5a232",
      "metadata": {},
      "source": [
        "### Load smart contract with state from running blockchain"
      ]
    },
    {
      "cell_type": "code",
      "execution_count": null,
      "id": "959276e7",
      "metadata": {},
      "outputs": [],
      "source": [
        "import { SortedMap } from \"@oraichain/immutable\";\n",
        "import { BufferCollection } from \"@oraichain/cw-simulate\";\n",
        "import { compare } from \"@oraichain/cosmwasm-vm-js\";\n",
        "import { Cw20BaseClient } from \"@oraichain/common-contracts-sdk\";\n",
        "\n",
        "const wasmCode = new Uint8Array(await fetch(\"/kwt-token.wasm\").then(res=>res.arrayBuffer()));\n",
        "const { codeId } = await client.upload(senderAddress, wasmCode, \"auto\");\n",
        "\n",
        "const buffer = Buffer.from(await fetch('/kwt-token.state').then(res=>res.arrayBuffer()));\n",
        "const state = SortedMap.rawPack(new BufferCollection(buffer), compare);\n",
        "\n",
        "const kwtContract = new Cw20BaseClient(client, senderAddress, \"orai1nd4r053e3kgedgld2ymen8l9yrw8xpjyaal7j5\");\n",
        "await client.loadContract(\"orai1nd4r053e3kgedgld2ymen8l9yrw8xpjyaal7j5\", {\n",
        "      codeId,\n",
        "      admin: senderAddress,\n",
        "      label: \"kwt token\",\n",
        "      creator: senderAddress,\n",
        "      created: 1,\n",
        "}, state);\n",
        "\n",
        "console.log(await kwtContract.allAccounts({limit:5}));"
      ]
    }
  ],
  "metadata": {
    "kernelspec": {
      "display_name": "JavaScript",
      "language": "javascript",
      "name": "jslab"
    },
    "language_info": {
      "file_extension": ".js",
      "mimetype": "text/javascript",
      "name": "javascript",
      "version": ""
    }
  },
  "nbformat": 4,
  "nbformat_minor": 5
}
