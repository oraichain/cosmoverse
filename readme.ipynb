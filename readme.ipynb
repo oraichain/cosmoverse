{
  "cells": [
    {
      "cell_type": "markdown",
      "id": "5430a916-6612-4f50-8d4a-e6f4c0514a2e",
      "metadata": {},
      "source": [
        "## Step by step how to play with cosmwasm simulation tools"
      ]
    },
    {
      "cell_type": "markdown",
      "id": "dc7e8229-fb44-483d-ad51-a45e3bf85957",
      "metadata": {},
      "source": [
        "### Features\n",
        "\n",
        "- configure multiple host chain environments with chain-specific settings / state (cosmos hub, terra, oraichain ...)\n",
        "- multiple simultaneous contract instances can exist per chain (complex module requires many smart contracts)\n",
        "- chain modules can be simulated through custom user code (bank, wasm, ibc modules ...)\n",
        "- extensible for further instrumentation via custom middlewares (extended logic such as IBC hooks)\n",
        "- load fork state from running blockhain (for integration test with mainnet)"
      ]
    },
    {
      "cell_type": "markdown",
      "id": "7ee734ae-dfce-435a-9ff9-0991dc383270",
      "metadata": {},
      "source": [
        "### Import cw-simulate module and create new instance"
      ]
    },
    {
      "cell_type": "code",
      "execution_count": 1,
      "id": "00119fef-6ecc-4cab-889e-aa58adb81cfb",
      "metadata": {},
      "outputs": [],
      "source": [
        "window.senderAddress = \"orai14vcw5qk0tdvknpa38wz46js5g7vrvut8lk0lk6\";\n",
        "window.client = new SimulateCosmWasmClient({\n",
        "  chainId: \"Oraichain\",\n",
        "  bech32Prefix: \"orai\",\n",
        "  metering: true\n",
        "});\n"
      ]
    },
    {
      "cell_type": "markdown",
      "id": "2bde6d50-2adb-4d18-bd52-d78fb5ff716f",
      "metadata": {},
      "source": [
        "### Setup account balance then transfer"
      ]
    },
    {
      "cell_type": "code",
      "execution_count": 2,
      "id": "0e767df4-c883-4ccb-a08e-cf5ca057ab29",
      "metadata": {},
      "outputs": [
        {
          "name": "stdout",
          "output_type": "stream",
          "text": []
        }
      ],
      "source": [
        "client.app.bank.setBalance(senderAddress, coins('10000000', 'orai'));\n",
        "\n",
        "return await client.getBalance(senderAddress, 'orai')"
      ]
    },
    {
      "cell_type": "markdown",
      "id": "a8b7a0c2-89c6-4e5e-bbba-b38d00a8ae63",
      "metadata": {},
      "source": [
        "### Deploy contract on SimulateCosmwasmClient"
      ]
    },
    {
      "cell_type": "code",
      "execution_count": 3,
      "id": "f0d82dac-02b5-4292-bc26-079461701c41",
      "metadata": {},
      "outputs": [
        {
          "name": "stdout",
          "output_type": "stream",
          "text": []
        }
      ],
      "source": [
        "const { codeId } = await client.upload(senderAddress, new Uint8Array(await fetch(\"/cw20-base.wasm\").then(res=>res.arrayBuffer())), \"auto\");\n",
        "const result = await client.instantiate(senderAddress, codeId, {\n",
        "    decimals: 6,\n",
        "    symbol: \"CVT\",\n",
        "    name: \"cosmoverse token\",\n",
        "    mint: { minter: senderAddress },\n",
        "    initial_balances: [{ address: senderAddress, amount: \"1000000000\" }] \n",
        "}, \"cw20 token\", \"auto\");\n",
        "window.contractAddress = result.contractAddress;\n",
        "const cw20Contract = new Cw20BaseClient(client, senderAddress, contractAddress);\n",
        "\n",
        "return await cw20Contract.tokenInfo()"
      ]
    },
    {
      "cell_type": "markdown",
      "id": "f87c1526-155b-4b0e-83fd-969ad6d9328b",
      "metadata": {},
      "source": [
        "### Console.log in smart contract\n",
        "\n",
        "1. run `code ../cw-plus/contracts/cw20-base` to add log function\n",
        "1. run `cwtools build ../cw-plus/contracts/cw20-base -d -w -o node_modules/@oraichain/common-contracts-build/data/` to override wasm contract file\n",
        "1. re-run notebook above to see the log\n"
      ]
    },
    {
      "cell_type": "markdown",
      "id": "66f53721-f427-4a51-8154-0ca91efc5be7",
      "metadata": {},
      "source": [
        "### Execute contract with gas metering"
      ]
    },
    {
      "cell_type": "code",
      "execution_count": 4,
      "id": "32a6bf55-e7b8-4535-9a84-fa19baf968b9",
      "metadata": {},
      "outputs": [
        {
          "name": "stdout",
          "output_type": "stream",
          "text": []
        }
      ],
      "source": [
        "window.cw20Contract = new Cw20BaseClient(client, senderAddress, contractAddress);\n",
        "const { gasUsed } = await cw20Contract.transfer({amount: '1000000', recipient: 'orai1ur2vsjrjarygawpdwtqteaazfchvw4fg6uql76'});\n",
        "console.log(`Transfer token required gas: ${gasUsed}`);\n",
        "\n",
        "return await cw20Contract.balance({address:'orai1ur2vsjrjarygawpdwtqteaazfchvw4fg6uql76'})"
      ]
    },
    {
      "cell_type": "markdown",
      "id": "c0b67e87-befb-405d-8c70-f377280dcb38",
      "metadata": {},
      "source": [
        "### Setup IBC channels"
      ]
    },
    {
      "cell_type": "code",
      "execution_count": 5,
      "id": "cff341d8-2178-4c7a-bede-6c2f69691755",
      "metadata": {},
      "outputs": [],
      "source": [
        "window.cosmosChain = new CWSimulateApp({\n",
        "    chainId: \"cosmoshub-4\",\n",
        "    bech32Prefix: \"cosmos\"\n",
        "});\n",
        "\n",
        "// relay message between Cosmos Hub and Oraichain\n",
        "cosmosChain.ibc.relay(\"channel-0\", \"transfer\", \"channel-0\", \"transfer\", client.app);"
      ]
    },
    {
      "cell_type": "markdown",
      "id": "594e471b-3d72-456a-a7d2-91b35fafdebc",
      "metadata": {},
      "source": [
        "### Send Orai token from Oraichain to Cosmos Hub"
      ]
    },
    {
      "cell_type": "code",
      "execution_count": 6,
      "id": "aca3a532-e256-426c-bdb7-357ae7ed6bb3",
      "metadata": {},
      "outputs": [
        {
          "name": "stdout",
          "output_type": "stream",
          "text": []
        }
      ],
      "source": [
        "// mint ibc/orai on cosmos hub and burn orai on oraichain\n",
        "await client.app.ibc.sendTransfer({\n",
        "    channelId: \"channel-0\",\n",
        "    receiver: \"cosmos1ur2vsjrjarygawpdwtqteaazfchvw4fgf0kulf\",\n",
        "    token: { amount: \"1000000\", denom: \"orai\" },\n",
        "    sender: senderAddress,\n",
        "    timeout: {\n",
        "        timestamp: \"\"\n",
        "    }\n",
        "});\n",
        "\n",
        "return cosmosChain.bank.getBalance(\"cosmos1ur2vsjrjarygawpdwtqteaazfchvw4fgf0kulf\")"
      ]
    },
    {
      "cell_type": "markdown",
      "id": "f5b2d71b-b8d4-47e4-9772-55b84a10b8b2",
      "metadata": {},
      "source": [
        "### Send back IBC Orai from Cosmos Hub to Oraichain"
      ]
    },
    {
      "cell_type": "code",
      "execution_count": 7,
      "id": "a391221f-5334-4b0b-8e7c-47680f80113e",
      "metadata": {},
      "outputs": [
        {
          "name": "stdout",
          "output_type": "stream",
          "text": []
        }
      ],
      "source": [
        "// mint orai on oraichain and burn ibc/orai on cosmos hub\n",
        "await cosmosChain.ibc.sendTransfer({\n",
        "    channelId: \"channel-0\",\n",
        "    receiver: senderAddress,\n",
        "    token: { amount: \"1000000\", denom: \"ibc/56c280c7163a5e37ea987d3fa195ea719b7b7c7d319615afaa17cba5a347cec4\" },\n",
        "    sender: \"cosmos1ur2vsjrjarygawpdwtqteaazfchvw4fgf0kulf\",\n",
        "    timeout: {\n",
        "        timestamp: \"\"\n",
        "    }\n",
        "});\n",
        "\n",
        "return cosmosChain.bank.getBalance(\"cosmos1ur2vsjrjarygawpdwtqteaazfchvw4fgf0kulf\")"
      ]
    },
    {
      "cell_type": "markdown",
      "id": "b2f18ab2-f0f4-41a4-92f4-ce02606501e5",
      "metadata": {},
      "source": [
        "### Setup port module using smart contract"
      ]
    },
    {
      "cell_type": "code",
      "execution_count": 8,
      "id": "d03920a0-4cfe-4c64-8020-918a78a03fe3",
      "metadata": {},
      "outputs": [
        {
          "name": "stdout",
          "output_type": "stream",
          "text": []
        }
      ],
      "source": [
        "\n",
        "// deploy ics20 contract \n",
        "const { codeId } = await client.upload(\n",
        "    senderAddress,\n",
        "    new Uint8Array(await fetch(\"/cw-ics20-latest.wasm\").then(res=>res.arrayBuffer())),\n",
        "    \"auto\"\n",
        ");\n",
        "\n",
        "const { contractAddress } = await client.instantiate(senderAddress, codeId, {\n",
        "    allowlist: [],\n",
        "    default_timeout: 3600,\n",
        "    gov_contract: senderAddress,\n",
        "    swap_router_contract: \"placeholder\"\n",
        "}, \"ics20\", \"auto\");\n",
        "\n",
        "\n",
        "window.ics20Contract = new CwIcs20LatestClient(client, senderAddress, contractAddress);\n",
        "\n",
        "return await ics20Contract.config()"
      ]
    },
    {
      "cell_type": "markdown",
      "id": "eff7de02-2923-4210-96b3-f00e84fe56e1",
      "metadata": {},
      "source": [
        "### Setup IBC channel between Cosmos Hub transfer port module and Oraichain CosmWasm port module"
      ]
    },
    {
      "cell_type": "code",
      "execution_count": 9,
      "id": "aa41c99c-d932-4bff-af3a-de3ace660505",
      "metadata": {},
      "outputs": [],
      "source": [
        "window.oraiPort = \"wasm.\" + ics20Contract.contractAddress;\n",
        "window.channel = \"channel-2\"\n",
        "\n",
        "// init ibc channel between two chains\n",
        "client.app.ibc.relay(channel, oraiPort, channel, \"transfer\", cosmosChain);"
      ]
    },
    {
      "cell_type": "markdown",
      "id": "17cb4e47-10bc-4f93-9b8c-2d289d9ff21e",
      "metadata": {},
      "source": [
        "### Send Open and Connect packets"
      ]
    },
    {
      "cell_type": "code",
      "execution_count": 10,
      "id": "348290db-91dc-46ec-805a-4c564ae3aa1c",
      "metadata": {},
      "outputs": [],
      "source": [
        "await cosmosChain.ibc.sendChannelOpen({\n",
        "    open_init: {\n",
        "        channel: {\n",
        "            counterparty_endpoint: {\n",
        "                port_id: oraiPort,\n",
        "                channel_id: channel\n",
        "            },\n",
        "            endpoint: {\n",
        "                port_id: \"transfer\",\n",
        "                channel_id: channel\n",
        "            },\n",
        "            order: IbcOrder.Unordered,\n",
        "            version: \"ics20-1\",\n",
        "            connection_id: \"connection-0\"\n",
        "        }\n",
        "    }\n",
        "});\n",
        "\n",
        "await cosmosChain.ibc.sendChannelConnect({\n",
        "    open_ack: {\n",
        "        channel: {\n",
        "            counterparty_endpoint: {\n",
        "                port_id: oraiPort,\n",
        "                channel_id: channel\n",
        "            },\n",
        "            endpoint: {\n",
        "                port_id: \"transfer\",\n",
        "                channel_id: channel\n",
        "            },\n",
        "            order: IbcOrder.Unordered,\n",
        "            version: \"ics20-1\",\n",
        "            connection_id: \"connection-0\"\n",
        "        },\n",
        "        counterparty_version: \"ics20-1\"\n",
        "    }\n",
        "});\n",
        "\n",
        "// handle IBC message timeout\n",
        "cosmosChain.ibc.addMiddleWare((msg, app) => {\n",
        "    const data = msg.data.packet;\n",
        "    if (Number(data.timeout.timestamp) < cosmosChain.time) {\n",
        "        throw new GenericError(\"timeout at \" + data.timeout.timestamp);\n",
        "    }\n",
        "});"
      ]
    },
    {
      "cell_type": "markdown",
      "id": "3d8d2f62-c812-4345-ae8c-a439c0e93395",
      "metadata": {},
      "source": [
        "### Prepare for interaction"
      ]
    },
    {
      "cell_type": "code",
      "execution_count": 11,
      "id": "6cd136aa-07fd-4897-8283-4df0504ffdc7",
      "metadata": {},
      "outputs": [
        {
          "name": "stdout",
          "output_type": "stream",
          "text": []
        }
      ],
      "source": [
        "window.airiIbcDenom = \"tron-testnet0x7e2A35C746F2f7C240B664F1Da4DD100141AE71F\";\n",
        "\n",
        "await ics20Contract.updateMappingPair({\n",
        "   localAssetInfo: {\n",
        "     token: {\n",
        "       contract_addr: cw20Contract.contractAddress\n",
        "     }\n",
        "   },\n",
        "   localAssetInfoDecimals: 6,\n",
        "   denom: airiIbcDenom,\n",
        "   remoteDecimals: 6,\n",
        "   localChannelId: channel\n",
        "});\n",
        "\n",
        "// topup\n",
        "client.app.bank.setBalance(ics20Contract.contractAddress, coins(\"10000000000000\", \"orai\"));\n",
        "\n",
        "return await client.getBalance(ics20Contract.contractAddress, 'orai')"
      ]
    },
    {
      "cell_type": "markdown",
      "id": "2e655b7d-9454-4369-9b64-307146dd9aa1",
      "metadata": {},
      "source": [
        "### Send IBC token between Cosmos Hub and Oraichain"
      ]
    },
    {
      "cell_type": "code",
      "execution_count": 12,
      "id": "979b4931-6146-4758-ae2d-b0306e9f7415",
      "metadata": {},
      "outputs": [
        {
          "name": "stdout",
          "output_type": "stream",
          "text": []
        }
      ],
      "source": [
        "const cosmosSenderAddress = bech32.encode(\"cosmos\", bech32.decode(senderAddress).words);\n",
        "\n",
        "// now send ibc package\n",
        "const icsPackage = {\n",
        "    amount: \"100000000\",\n",
        "    denom: airiIbcDenom,\n",
        "    receiver: senderAddress,\n",
        "    sender: cosmosSenderAddress,\n",
        "    memo: \"\"\n",
        "};\n",
        "\n",
        "// transfer from cosmos to oraichain, should pass\n",
        "await cosmosChain.ibc.sendPacketReceive({\n",
        "    packet: {\n",
        "        data: toBinary(icsPackage),      \n",
        "        src: {\n",
        "          port_id: \"transfer\",\n",
        "          channel_id: channel\n",
        "        },\n",
        "        dest: {\n",
        "          port_id: oraiPort,\n",
        "          channel_id: channel\n",
        "        },\n",
        "        sequence: 27,\n",
        "        timeout: {\n",
        "          block: {\n",
        "            revision: 1,\n",
        "            height: 12345678\n",
        "          }\n",
        "        }\n",
        "    },\n",
        "    relayer: cosmosSenderAddress\n",
        "});\n",
        "\n",
        "const transferBackMsg = {\n",
        "    local_channel_id: channel,\n",
        "    remote_address: cosmosSenderAddress,\n",
        "    remote_denom: airiIbcDenom\n",
        "};\n",
        "\n",
        "cw20Contract.sender = senderAddress;\n",
        "\n",
        "await cw20Contract.send({\n",
        "    amount: \"100000000\",\n",
        "    contract: ics20Contract.contractAddress,\n",
        "    msg: toBinary(transferBackMsg)\n",
        "});\n",
        "const ibcBalance = await cw20Contract.balance({ address: ics20Contract.contractAddress });\n",
        "\n",
        "// should return initialBalance: 100000000\n",
        "return ibcBalance.balance"
      ]
    }
  ],
  "metadata": {
    "kernelspec": {
      "display_name": "JavaScript",
      "language": "javascript",
      "name": "jslab"
    },
    "language_info": {
      "file_extension": ".js",
      "mimetype": "text/javascript",
      "name": "javascript",
      "version": ""
    }
  },
  "nbformat": 4,
  "nbformat_minor": 5
}
